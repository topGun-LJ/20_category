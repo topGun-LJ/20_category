{
 "cells": [
  {
   "cell_type": "code",
   "execution_count": 1,
   "id": "21fd58c3",
   "metadata": {},
   "outputs": [],
   "source": [
    "import os\n",
    "import pickle"
   ]
  },
  {
   "cell_type": "markdown",
   "id": "158c6bb1",
   "metadata": {},
   "source": [
    "## 任务一 \n",
    "    五重交叉验证，先将数据集分成五份，做出labels映射表"
   ]
  },
  {
   "cell_type": "code",
   "execution_count": 5,
   "id": "db71bb5f",
   "metadata": {},
   "outputs": [
    {
     "name": "stdout",
     "output_type": "stream",
     "text": [
      "{'alt.atheism': 0, 'comp.graphics': 1, 'comp.os.ms-windows.misc': 2, 'comp.sys.ibm.pc.hardware': 3, 'comp.sys.mac.hardware': 4, 'comp.windows.x': 5, 'misc.forsale': 6, 'rec.autos': 7, 'rec.motorcycles': 8, 'rec.sport.baseball': 9, 'rec.sport.hockey': 10, 'sci.crypt': 11, 'sci.electronics': 12, 'sci.med': 13, 'sci.space': 14, 'soc.religion.christian': 15, 'talk.politics.guns': 16, 'talk.politics.mideast': 17, 'talk.politics.misc': 18, 'talk.religion.misc': 19}\n"
     ]
    },
    {
     "ename": "AttributeError",
     "evalue": "module 'pickle' has no attribute 'read'",
     "output_type": "error",
     "traceback": [
      "\u001b[1;31m---------------------------------------------------------------------------\u001b[0m",
      "\u001b[1;31mAttributeError\u001b[0m                            Traceback (most recent call last)",
      "\u001b[1;32m<ipython-input-5-fc007263ff4b>\u001b[0m in \u001b[0;36m<module>\u001b[1;34m\u001b[0m\n\u001b[0;32m     17\u001b[0m \u001b[0mmmap\u001b[0m \u001b[1;33m=\u001b[0m \u001b[1;33m{\u001b[0m\u001b[1;33m}\u001b[0m\u001b[1;33m\u001b[0m\u001b[1;33m\u001b[0m\u001b[0m\n\u001b[0;32m     18\u001b[0m \u001b[1;32mwith\u001b[0m \u001b[0mopen\u001b[0m\u001b[1;33m(\u001b[0m\u001b[1;34m\"folder_mapping.pickle\"\u001b[0m\u001b[1;33m,\u001b[0m \u001b[1;34m\"rb\"\u001b[0m\u001b[1;33m)\u001b[0m \u001b[1;32mas\u001b[0m \u001b[0mf\u001b[0m\u001b[1;33m:\u001b[0m\u001b[1;33m\u001b[0m\u001b[1;33m\u001b[0m\u001b[0m\n\u001b[1;32m---> 19\u001b[1;33m     \u001b[0mpickle\u001b[0m\u001b[1;33m.\u001b[0m\u001b[0mread\u001b[0m\u001b[1;33m(\u001b[0m\u001b[0mmmap\u001b[0m\u001b[1;33m,\u001b[0m \u001b[0mf\u001b[0m\u001b[1;33m)\u001b[0m\u001b[1;33m\u001b[0m\u001b[1;33m\u001b[0m\u001b[0m\n\u001b[0m\u001b[0;32m     20\u001b[0m \u001b[1;33m\u001b[0m\u001b[0m\n\u001b[0;32m     21\u001b[0m \u001b[0mprint\u001b[0m\u001b[1;33m(\u001b[0m\u001b[0mmmap\u001b[0m\u001b[1;33m)\u001b[0m\u001b[1;33m\u001b[0m\u001b[1;33m\u001b[0m\u001b[0m\n",
      "\u001b[1;31mAttributeError\u001b[0m: module 'pickle' has no attribute 'read'"
     ]
    }
   ],
   "source": [
    "# 定义父文件夹的路径\n",
    "folder_path = \"20_newsgroups\"\n",
    "# 获取该文件夹下的所有子文件夹名称，并存储在 subfolders 列表中\n",
    "subfolders = [f.name for f in os.scandir(folder_path) if f.is_dir()]\n",
    "# 对子文件夹名称列表进行排序\n",
    "subfolders.sort()\n",
    "# 创建一个空字典，用于存储映射关系\n",
    "mapping_dict = {}\n",
    "# 使用 enumerate 函数遍历子文件夹列表，将子文件夹名称映射到数字 0-19\n",
    "for i, subfolder in enumerate(subfolders):\n",
    "    mapping_dict[subfolder] = i\n",
    "print(mapping_dict)\n",
    "# 将映射字典存储为 pickle 文件\n",
    "with open(\"folder_mapping.pickle\", \"wb\") as f:\n",
    "    pickle.dump(mapping_dict, f)\n",
    "\n",
    "mmap = {}\n",
    "with open(\"folder_mapping.pickle\", \"rb\") as f:\n",
    "    pickle.load(mmap, f)\n",
    "    \n",
    "print(mmap)"
   ]
  },
  {
   "cell_type": "code",
   "execution_count": null,
   "id": "7a0b9d0e",
   "metadata": {},
   "outputs": [],
   "source": []
  }
 ],
 "metadata": {
  "kernelspec": {
   "display_name": "Python 3",
   "language": "python",
   "name": "python3"
  },
  "language_info": {
   "codemirror_mode": {
    "name": "ipython",
    "version": 3
   },
   "file_extension": ".py",
   "mimetype": "text/x-python",
   "name": "python",
   "nbconvert_exporter": "python",
   "pygments_lexer": "ipython3",
   "version": "3.8.8"
  }
 },
 "nbformat": 4,
 "nbformat_minor": 5
}
